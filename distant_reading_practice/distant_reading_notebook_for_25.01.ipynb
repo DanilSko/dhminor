{
 "cells": [
  {
   "cell_type": "markdown",
   "metadata": {},
   "source": [
    "# Distant Reading, переходим к Python"
   ]
  },
  {
   "cell_type": "markdown",
   "metadata": {},
   "source": [
    "## Чему можно научиться по этой тетрадке?\n",
    "\n",
    "Здесь показаны простые, но полезные и широко примениемы способы обработки и количественного исследования текста в Python:\n",
    "\n",
    "* Чтение текстового файла из программы\n",
    "* Токенизация (разбиение текста на слова) и подсчет числа слов\n",
    "* Подсчет частотностей слов. Построение графиков типа такого:\n",
    "\n",
    "![pyfreqs1](pics/pyfreqs1.png)\n",
    "\n",
    "* Анализ распределения слов по тексту. Построение графиков типа таких: \n",
    "\n",
    "![pydistr1](pics/pydistr1.png)\n",
    "![pydistr2](pics/pydistr2.png)\n",
    "\n",
    "* В т.ч. и на достаточно большом корпусе (сотни, а то и тысячи текстов).\n",
    "\n",
    "![corpus_graph](pics/corpus_graph.png)"
   ]
  },
  {
   "cell_type": "markdown",
   "metadata": {},
   "source": [
    "## Как использовать этот код \n",
    "\n",
    "### (можно пропустить эту часть, если вы знаете, что такое Jupyter и ipynb-тетрадки -- в таком случае переходите сразу к \"Начало работы\")\n",
    "То, на что вы сейчас смотрите — тетрадка Jupyter Notebook. Это одна из популярных сред для написания и __демонстрации__ кода на Python (и не только). Jupyter запускает питоновский код прямо в браузере (но локально, т.е. код исполняет ваш компьютер, в отличие от, например облачного Google Colab). В Jupyter код можно запускать не целиком, а по ячейкам (в отличие от IDLE). \n",
    "\n",
    "Пример:"
   ]
  },
  {
   "cell_type": "code",
   "execution_count": null,
   "metadata": {
    "scrolled": false
   },
   "outputs": [],
   "source": [
    "# ячейка с кодом\n",
    "text = 'Мы с Даней сегодня пробуем в дистант ридинг'\n",
    "print (text)"
   ]
  },
  {
   "cell_type": "code",
   "execution_count": null,
   "metadata": {
    "scrolled": true
   },
   "outputs": [],
   "source": [
    "# еще одна ячейка с кодом. \n",
    "# Пространство имен общее — переменная text была заполнена в предыдущей ячейке\n",
    "print (text.upper())"
   ]
  },
  {
   "cell_type": "markdown",
   "metadata": {},
   "source": [
    "Такой последовательный режим запуска кусочков кода особенно удобен в преподавании. Поэтому, например, Яндекс делает многие курсы в ipynb ([типа такого](https://github.com/yandexdataschool/nlp_course/tree/master)) \n"
   ]
  },
  {
   "cell_type": "markdown",
   "metadata": {},
   "source": [
    "Кроме того, ячейки бывают текстовыми — их можно форматировать с помощью формата разметки markdown (.md). Текст, который вы сейчас читаете, а также всякие описания и картинки в предыдущей части этого занятия, написаны как раз в таком формате. Файлы Jupyter Notebook имеют расширение .ipynb и автоматически рендерятся гитхабом. Например, вот эта __[тетрадка](distant_reading_notebook_for_25.01.ipynb)__  у меня на гитхабе.  "
   ]
  },
  {
   "cell_type": "markdown",
   "metadata": {},
   "source": [
    "## Окей, а как я могу запустить код в таком .ipynb?\n",
    "\n",
    "Есть разные варианты: \n",
    "\n",
    "### Через __[Google Colab](https://colab.research.google.com)__. \n",
    "\n",
    "Google Colab — это гугловский инструмент для написания кода в браузере и запуска прямо на серверах Google (с возможностью бесплатно использовать их вычислительные мощности, в т.ч. графические процессор  — GPU).  Google Colab — родственник Jupyter, они очень похожи. Разница в том, что Jupyter работает локально и использует ваш собственный питон, а Google Colab — это облачный сервис, похожий на Google Docs: вы можете делиться тетрадками и т.д. В Colab можно открыть эту тетрадку, указав ссылку на нее: \n",
    "\n",
    "![Colab](pics/git2colab_new.png) \n",
    "\n",
    "Когда нажмете на 🔍, тетрадка откроется уже в Colab, и там можно исполнять её код:\n",
    "\n",
    "![Colab](pics/ipynb2colab2.png) \n",
    "\n",
    "Просто загрузить .ipynb-файл в Colab тоже можно. \n",
    "\n",
    "### Скачать себе .ipynb и открыть в Jupyter\n",
    "\n",
    "Скачать .ipynb с гитхаба: \n",
    "\n",
    "![Raw](pics/raw_download.png) \n",
    "\n",
    "Поставить Jupyter Notebook по инструкции __[отсюда](https://jupyter.readthedocs.io/en/latest/install.html)__. Открыть терминал (в Windows — командную строку).пойти в папку, внутри которой лежит скачанный .ipynb, написать там jupyter notebook. После этого у вас должно открыться в браузере что-то такое:\n",
    "\n",
    "![Colab](pics/jupyter.png)\n",
    "\n",
    "Тыкайте на тетрадку -- и все, можно работать в ней, писать код и т.п. \n",
    "\n",
    "NB: Из Jupyter можно выгрузить и отдельно код в виде файла .py (но тогда разделение на ячейки пропадет).\n",
    "\n",
    "<!-- \n",
    "### Клонировать репозиторий\n",
    "\n",
    "Чуть более продвинутся версия предыдущего варианта. Делаете\n",
    "\n",
    "$ git clone https://github.com/dhhse/dhminor\n",
    "\n",
    "(\n",
    "\n",
    "только учтите, что вам нужен не master, а бранч gh-pages:\n",
    "\n",
    "$ git checkout gh-pages\n",
    "\n",
    ")\n",
    "\n",
    "И у вас есть этот код, а к тому же и все тексты рядом с ним (в папке texts лежит наш корпус в лемматизированном виде). **Правда, скачиывание через небыстрый интернет может занять сколько-то времени**. \n",
    "-->\n",
    "\n",
    "### Скачать .ipynb и открыть в PyCharm\n",
    "Если вы любите популярную у питонистов IDE PyCharm  -- она умеет открывать ipynb. Но для этого все равно нужен установеленный Jupyter. Поэтому надо проделать все то же, что в предыд.пункте, а потом открыть файл в PyCharm.\n",
    "\n",
    "### Скачать файл .py из Google Colab или Jupyter и открыть любой IDE (IDLE, PyCharm, что угодно...)\n",
    "Из Colab после создания копии вы можете выгрузить не весь .ipynb, а только код в .py. Этот код уже можно запускать где угодно, хоть из командной строки (терминала) вашего компьютера. Но тогда разделение на ячейки опять-таки пропадет."
   ]
  },
  {
   "cell_type": "markdown",
   "metadata": {},
   "source": [
    "## Начало работы"
   ]
  },
  {
   "cell_type": "markdown",
   "metadata": {},
   "source": [
    "### Самый простой пример: работаем в Python с одиночным текстом"
   ]
  },
  {
   "cell_type": "markdown",
   "metadata": {},
   "source": [
    "NB: в ячейке ниже НЕ питоновский код, команда ls — стандартная команда для терминала/командной строки (\"показать содержимое папки\"), выполненная через Jupyter (чтобы сказать юпитеру, что команду нужно послать в командную строку, а не в питон, надо поставить воскл.знак перед командой); [подробнее тут](https://habr.com/ru/company/wunderfund/blog/316826/)"
   ]
  },
  {
   "cell_type": "code",
   "execution_count": null,
   "metadata": {},
   "outputs": [],
   "source": [
    "# у себя в репозитории я положил рядом с кодом пример текста — Преступление и наказение Ф.М. Достоевского\n",
    "# вот так я проверю, что рядом в папке лежит файл с корпусом \n",
    "!ls"
   ]
  },
  {
   "cell_type": "code",
   "execution_count": null,
   "metadata": {
    "scrolled": true
   },
   "outputs": [],
   "source": [
    "# У тех, кто открыл тетрадку в Google Colab, файла не будет. \n",
    "# В случае, когда нам нужен всего один файл, это можно решить простым способом: вы сами загрузите файл в колаб \n",
    "# Вот стандартный питоновский код для загрузки файлов в колаб\n",
    "# Если работаете в Jupyter — запускать не нужно\n",
    "from google.colab import files\n",
    "\n",
    "uploaded = files.upload()\n",
    "\n",
    "for fn in uploaded.keys():\n",
    "  print('User uploaded file \"{name}\" with length {length} bytes'.format(\n",
    "      name=fn, length=len(uploaded[fn])))"
   ]
  },
  {
   "cell_type": "markdown",
   "metadata": {},
   "source": [
    " __[А вот прямая ссылка на текстовый файл, где можно его скачать](https://github.com/DanilSko/dhminor/blob/gh-pages/distant_reading_practice/Dostoevsky_PrestuplenieINakazanie.txt)__"
   ]
  },
  {
   "cell_type": "code",
   "execution_count": null,
   "metadata": {
    "scrolled": true
   },
   "outputs": [],
   "source": [
    "# откроем файл в питоне\n",
    "path_to_file = 'Dostoevsky_PrestuplenieINakazanie.txt'\n",
    "prest_i_nak = open (path_to_file, 'r')\n",
    "prest_i_nak_kak_stroka = prest_i_nak.read()"
   ]
  },
  {
   "cell_type": "code",
   "execution_count": null,
   "metadata": {
    "scrolled": true
   },
   "outputs": [],
   "source": [
    "# посчитаем длину этой строки\n",
    "len (prest_i_nak_kak_stroka) "
   ]
  },
  {
   "cell_type": "markdown",
   "metadata": {},
   "source": [
    "#### ☝️ измереяется в символах (т.к. строка для питона — просто цепочка символов)"
   ]
  },
  {
   "cell_type": "code",
   "execution_count": null,
   "metadata": {
    "scrolled": true
   },
   "outputs": [],
   "source": [
    "## посмотрим на первые 100 символов строки\n",
    "prest_i_nak_kak_stroka [:100]\n",
    "## и нажмите выполнить"
   ]
  },
  {
   "cell_type": "markdown",
   "metadata": {},
   "source": [
    "# Сегментация текста"
   ]
  },
  {
   "cell_type": "markdown",
   "metadata": {},
   "source": [
    "## 0. Простейший способ сегментации строки на токены (≈ на слова, но грубо) — встроенный метод питоновских строк .split:"
   ]
  },
  {
   "cell_type": "code",
   "execution_count": null,
   "metadata": {
    "scrolled": true
   },
   "outputs": [],
   "source": [
    "prest_i_nak_kak_spisok_slov = prest_i_nak_kak_stroka.split() ## здесь в качестве аргумента можно воткнуть разделитель; по умолчанию это любое количество пробелов\n",
    "print ('Примерное количество слов в \"Преступлении и наказании\":', len (prest_i_nak_kak_spisok_slov))"
   ]
  },
  {
   "cell_type": "code",
   "execution_count": null,
   "metadata": {
    "scrolled": true
   },
   "outputs": [],
   "source": [
    "# посмотрим на этот список\n",
    "prest_i_nak_kak_spisok_slov[:20]"
   ]
  },
  {
   "cell_type": "markdown",
   "metadata": {},
   "source": [
    "### попробуем получить список уникальных слов:"
   ]
  },
  {
   "cell_type": "code",
   "execution_count": null,
   "metadata": {
    "scrolled": true
   },
   "outputs": [],
   "source": [
    "prest_i_nak_kak_mnojestvo_slov = set(prest_i_nak_kak_spisok_slov) ## превратим список в множество\n",
    "len (prest_i_nak_kak_mnojestvo_slov) ## получим число уникальных словоформ"
   ]
  },
  {
   "cell_type": "code",
   "execution_count": null,
   "metadata": {
    "scrolled": true
   },
   "outputs": [],
   "source": [
    "prest_i_nak_kak_spisok_unikalnyh_slov = list (prest_i_nak_kak_mnojestvo_slov)\n",
    "(prest_i_nak_kak_spisok_unikalnyh_slov).sort()\n",
    "prest_i_nak_kak_spisok_unikalnyh_slov [:1000]"
   ]
  },
  {
   "cell_type": "markdown",
   "metadata": {},
   "source": [
    "## 1. Более умный способ: сегментируем текст регулярным выражением (регекспом)"
   ]
  },
  {
   "cell_type": "markdown",
   "metadata": {},
   "source": [
    "Что такое регулярные выражения (регекспы)? См. [тут](https://ru.wikibooks.org/wiki/%D0%A0%D0%B5%D0%B3%D1%83%D0%BB%D1%8F%D1%80%D0%BD%D1%8B%D0%B5_%D0%B2%D1%8B%D1%80%D0%B0%D0%B6%D0%B5%D0%BD%D0%B8%D1%8F), [тут](https://tproger.ru/articles/regexp-for-beginners/) или где угодно в интернетах. Тренироваться лучше всего [тут](https://regex101.com/)"
   ]
  },
  {
   "cell_type": "code",
   "execution_count": null,
   "metadata": {
    "scrolled": true
   },
   "outputs": [],
   "source": [
    "## подключим питоновский модуль для регекспов\n",
    "## ВООБЩЕ-ТО так делать НЕХОРОШО, потому что в jupyter-тетрадках положено все импорты пихать в самую верхнюю ячейку\n",
    "## но я считаю, что здесь в педагогических целях можно\n",
    "import re\n",
    "# кстати, можно почитать хелпы — всегда полезно:\n",
    "help(re)"
   ]
  },
  {
   "cell_type": "code",
   "execution_count": null,
   "metadata": {
    "scrolled": true
   },
   "outputs": [],
   "source": [
    "# теперь сегментируем наш текст регекспом\n",
    "prest_i_nak_spisok_re =  re.split (' +|[.,!?–]|\\n',prest_i_nak_kak_stroka)\n",
    "# этот re.split бьет строку по всему, что подходит под регулярное выражение ' +|[.,!?–]|\\n' \n",
    "# а это либо любое количество пробелов ( +)\n",
    "# ..либо один из этих символов: .,!?–\n",
    "# ..либо перенос строки (\\n)\n"
   ]
  },
  {
   "cell_type": "code",
   "execution_count": null,
   "metadata": {
    "scrolled": true
   },
   "outputs": [],
   "source": [
    "# посмотрим на начало получившегося списка слов:\n",
    "\n",
    "prest_i_nak_spisok_re [:50]"
   ]
  },
  {
   "cell_type": "markdown",
   "metadata": {},
   "source": [
    "## 2. Еще более умный способ: сегментируем текст готовым токенизатором — возьмем его из прекрасной библиотеки для обработки языка NLTK \n",
    "\n",
    "Кстати, [приглядитесь к NLTK](https://www.nltk.org/), там много полезного. Есть хорошая [книжка](https://www.nltk.org/book/) про NLTK от его создателей."
   ]
  },
  {
   "cell_type": "code",
   "execution_count": null,
   "metadata": {
    "scrolled": true
   },
   "outputs": [],
   "source": [
    "# если у вас еще нет nltk, установите его (снова не питоновская команда, но в jupyter сраьботает -- он просто сходит в терминал и выполнит её):\n",
    "!pip install nltk"
   ]
  },
  {
   "cell_type": "code",
   "execution_count": null,
   "metadata": {
    "scrolled": true
   },
   "outputs": [],
   "source": [
    "from nltk.tokenize import word_tokenize"
   ]
  },
  {
   "cell_type": "code",
   "execution_count": null,
   "metadata": {
    "scrolled": true
   },
   "outputs": [],
   "source": [
    "prest_i_nak_nltk_tokenized = word_tokenize (prest_i_nak_kak_stroka)\n",
    "prest_i_nak_nltk_tokenized [:50]"
   ]
  },
  {
   "cell_type": "markdown",
   "metadata": {},
   "source": [
    "### А теперь давайте посчитаем частотность слов в нашем списке слов; т.е. собственно как часто повторяется каждое"
   ]
  },
  {
   "cell_type": "code",
   "execution_count": null,
   "metadata": {
    "scrolled": true
   },
   "outputs": [],
   "source": [
    "## для этого мы тоже не станем писать свое решение с нуля, а воспользуемся готовым от NLTK\n",
    "## возьемем токенизированный список — и засунем его в функцию FreqDist от NLTK\n",
    "from nltk import FreqDist\n",
    "word_freqs_prest_i_nak = FreqDist(prest_i_nak_nltk_tokenized)\n",
    "word_freqs_prest_i_nak.most_common (100)"
   ]
  },
  {
   "cell_type": "code",
   "execution_count": null,
   "metadata": {
    "scrolled": true
   },
   "outputs": [],
   "source": [
    "word_freqs_prest_i_nak.plot(40, cumulative=False)"
   ]
  },
  {
   "cell_type": "code",
   "execution_count": null,
   "metadata": {
    "scrolled": true
   },
   "outputs": [],
   "source": [
    "## можно еще почистить\n",
    "## засуну во FreqDist список, в котором нет слов, \n",
    "## содержащих разные знаки препинания, пробелы, переносы и т.п.\n",
    "\n",
    "word_freqs_prest_i_nak_cleaned = FreqDist(word for word in prest_i_nak_nltk_tokenized if re.search ('[, .!;:\\n-]', word) == None)\n",
    "word_freqs_prest_i_nak_cleaned.plot(40, cumulative=False)"
   ]
  },
  {
   "cell_type": "markdown",
   "metadata": {},
   "source": [
    "# Нормализация текста на уровне словоизменения: стемминг, лемматизация, морфологический анализ"
   ]
  },
  {
   "cell_type": "markdown",
   "metadata": {},
   "source": [
    "Пока мы делали статистику только по формам слов (словоформам). Т.е. \"конь\" и \"конями\" у нас считались совершенно разными словами. \n",
    "\n",
    "Самый простой способ нормализации слов в языках с морфологией — стемминг. Стемминг — это очень грубое разбиение формы на предполагаемую основу и предполагаемую флексию. Программы-стеммеры умеют превращать фразу \"Vyshka's students coded\" в \"Vyshka student code\", 'Маша поехала за грибами' в 'Маш поехал за гриб', а 'Даня работает в Вышке' в \"Дан работ в Вышк\"\n",
    "\n",
    "В принципе, из этих примеров уже понятно, почему стемминг, будучи относительно популярным для английского, крайне непопулярен для русского языка. "
   ]
  },
  {
   "cell_type": "markdown",
   "metadata": {},
   "source": [
    "### В том же NLTK есть готовая реализация стеммера для русского языка. Давайте потестируем ее!"
   ]
  },
  {
   "cell_type": "code",
   "execution_count": null,
   "metadata": {
    "scrolled": true
   },
   "outputs": [],
   "source": [
    "from nltk.stem.snowball import SnowballStemmer\n",
    "stemmer = SnowballStemmer(\"russian\")"
   ]
  },
  {
   "cell_type": "code",
   "execution_count": null,
   "metadata": {
    "scrolled": true
   },
   "outputs": [],
   "source": [
    "## стеммер не быстрый, поэтому давайте возьмем первые 1000 слов, а не все\n",
    "first_1000 = prest_i_nak_nltk_tokenized[:1000]\n",
    "## этот стеммер не умеет сам токенизировать -- он работает только с отдельными словами. \n",
    "## Поэтому придется скармливать ему наш список по одному: \n",
    "prest_i_nak_first_1000_stemmed = []\n",
    "for word in first_1000:\n",
    "    prest_i_nak_first_1000_stemmed.append (stemmer.stem(word))"
   ]
  },
  {
   "cell_type": "code",
   "execution_count": null,
   "metadata": {
    "scrolled": true
   },
   "outputs": [],
   "source": [
    "prest_i_nak_first_1000_stemmed"
   ]
  },
  {
   "cell_type": "code",
   "execution_count": null,
   "metadata": {
    "scrolled": true
   },
   "outputs": [],
   "source": [
    "## Но вообще стеммеры обычно применяются для английского с его небогатой морфологией и частым тождеством \n",
    "## голой основы -- и нач.формы\n",
    "## Английский пример.\n",
    "en_stemmer = SnowballStemmer(\"english\")\n",
    "string = 'I love teaching students at HSE'\n",
    "tostem = string.split()\n",
    "for word in tostem:\n",
    "    print (en_stemmer.stem(word))"
   ]
  },
  {
   "cell_type": "markdown",
   "metadata": {},
   "source": [
    "# Лемматизация текста"
   ]
  },
  {
   "cell_type": "markdown",
   "metadata": {},
   "source": [
    "Лемматизация — более традиционный для русского языка вариант, когда слова привожятся к начальной (словарной) форме. Т.е.  \"Даня работает в Вышке\" превращается в \"Даня работать в Вышка\". После такого преобразования мы можем (с оговорками, конечно) считать статистику для слов целиком, а не только для отдельных словоформ."
   ]
  },
  {
   "cell_type": "markdown",
   "metadata": {},
   "source": [
    "### MyStem\n",
    "\n",
    "__[Mystem](https://tech.yandex.ru/mystem/)__ - это свободно распространяемый морфологический анализатор для русского языка с закрытым исходным кодом. То есть мы можем его бесплатно скачать с сайта и пользоваться им, но не можем посмотреть, что у него внутри и как оно работает.\n",
    "\n",
    "Mystem был придуман одним из создателей Яндекса Ильёй Сегаловичем. Некоторый потомок Mystem'а до сих пор работает внутри большого поисковика Яндекса, анализируя слова при поиске.\n",
    "\n",
    "MyStem значит my stemmer. **Но на самом деле MyStem, конечно, не стеммер, а полноценный морфологический АНАЛИЗАТОР**. Он может гораздо больше: устанавливать словарную форму слова, определять часть речи и грамматические характеристики (падеж, число, время, род...). В последних версиях Mystem умеет и выбирать из нескольких возможных грамматических разборов один, наиболее верный.\n",
    "\n",
    "У Mystem нет графического оконного интерфейса, запустить его можно только из командной строки. Зато есть обертка для Python — pymystem3. Правда, с ней все работает медленнее — иногда лучше запускать из командной строки. И обертка pymystem3 очень плохо дружит с колабом (в общем-то, совсем не дружит). \n",
    "\n",
    "__[Документация к MyStem](https://tech.yandex.ru/mystem/doc/index-docpage/)__"
   ]
  },
  {
   "cell_type": "markdown",
   "metadata": {},
   "source": [
    "### Запускаем MyStem (для тех, кто запускает НЕ в Колабе):\n",
    "#### (А что с колабом? Ответ [тут](#colab_trouble))"
   ]
  },
  {
   "cell_type": "code",
   "execution_count": null,
   "metadata": {},
   "outputs": [],
   "source": [
    "# эта клетка нужна вам, если у вас не установлен модуль pymystem3.\n",
    "!pip install pymystem3\n",
    "## (NB: это снова не питон, а команда для командной строки)"
   ]
  },
  {
   "cell_type": "code",
   "execution_count": null,
   "metadata": {
    "scrolled": true
   },
   "outputs": [],
   "source": [
    "## В pymystem3 есть класс MyStem -- это как бы готовый анализатор MyStem, упакованный в питоновский класс \n",
    "## импортируем непосредственно класс \"анализатор MyStem\" из pymystem3\n",
    "from pymystem3 import Mystem"
   ]
  },
  {
   "cell_type": "code",
   "execution_count": null,
   "metadata": {},
   "outputs": [],
   "source": [
    "help (Mystem()) ## всегда полезно почитать хелпы!"
   ]
  },
  {
   "cell_type": "code",
   "execution_count": null,
   "metadata": {
    "scrolled": false
   },
   "outputs": [],
   "source": [
    "moi_analizator = Mystem() ## создаем экземпляр класса \"анализатор MyStem\" \n",
    "test = 'Даня тестирует машинную морфологию' ## создаем тестовую строку\n",
    "lemmatized = moi_analizator.lemmatize(test) ## лемматизируем строку с помощью mystem \n",
    "print (lemmatized) ## напечатаем лемматизированную строку"
   ]
  },
  {
   "cell_type": "code",
   "execution_count": null,
   "metadata": {},
   "outputs": [],
   "source": [
    "# здесь я для ускорения работы майстема заранее очищу текст от знаков препинания; это грязноватый хак, но мы себе его позволим\n",
    "clean_prest_i_nak_kak_stroka = re.sub ('[.,?!-:]', '', prest_i_nak_kak_stroka)"
   ]
  },
  {
   "cell_type": "code",
   "execution_count": null,
   "metadata": {
    "scrolled": true
   },
   "outputs": [],
   "source": [
    "prest_i_nak_by_mystem = moi_analizator.lemmatize(clean_prest_i_nak_kak_stroka) ## лемматизируем преступление и наказание с помощью mystem \n",
    "#print  (prest_i_nak_kak_by_mystem)"
   ]
  },
  {
   "cell_type": "code",
   "execution_count": null,
   "metadata": {},
   "outputs": [],
   "source": [
    "word_freqs_prest_i_nak = FreqDist(word for word in prest_i_nak_by_mystem if re.search ('[, !;:\\n]', word) == None)\n",
    "word_freqs_prest_i_nak.most_common (20)"
   ]
  },
  {
   "cell_type": "code",
   "execution_count": null,
   "metadata": {},
   "outputs": [],
   "source": [
    "word_freqs_prest_i_nak.plot (50, cumulative=False)"
   ]
  },
  {
   "cell_type": "markdown",
   "metadata": {},
   "source": [
    "### Собственно морфологический анализ\n",
    "\n",
    "Как я уже сказал, mystem -- полноценный анализатор, умеет сказать, в каком роде-числе-падеже-времени слово и т.п. Для этого используется второй метод — analyze. "
   ]
  },
  {
   "cell_type": "code",
   "execution_count": null,
   "metadata": {},
   "outputs": [],
   "source": [
    "analyzed = moi_analizator.analyze(test) ## лемматизируем строку с помощью mystem \n",
    "print (analyzed) ## напечатаем лемматизированную строку"
   ]
  },
  {
   "cell_type": "markdown",
   "metadata": {},
   "source": [
    "### Есть и альтернативные способ работать с mystem, не используя обертку pymystem3\n",
    "\n",
    "Во-первых, вы можете просто [скачать mystem](https://yandex.ru/dev/mystem/) (исполняемый файл) и запускать его из терминала / командной строки вообще без какого-либо питона. Вот пример:\n",
    "\n",
    "![mystem_terminal.png](pics/mystem_terminal.png)"
   ]
  },
  {
   "cell_type": "markdown",
   "metadata": {},
   "source": [
    "Во-вторых, можно из питона ходить в командную строку с помощью встроенной библиотеки os и запускать майстем  (не очень элегантно получается, но зато гораздо быстрее работает):"
   ]
  },
  {
   "cell_type": "code",
   "execution_count": null,
   "metadata": {},
   "outputs": [],
   "source": [
    "import os\n",
    "\n",
    "## скажите питону, где у вас MyStem\n",
    "path_to_mystem_on_my_machine = \"folder_with_mystem/mystem\"\n",
    "os.system(path_to_mystem_on_my_machine + ' -lnd ' + path_to_file + ' Lemmatized' + path_to_file)"
   ]
  },
  {
   "cell_type": "code",
   "execution_count": null,
   "metadata": {},
   "outputs": [],
   "source": [
    "## А в jupyter, как вы уже м.б. помните, можно еще и обращаться к командной строке с помощью  !\n",
    "\n",
    "! folder_with_mystem/mystem -lnd 'Dostoevsky_PrestuplenieINakazanie.txt' 'LemmDostoevsky_PrestuplenieINakazanie.txt'"
   ]
  },
  {
   "cell_type": "markdown",
   "metadata": {},
   "source": [
    "<a id='colab_trouble'></a>\n",
    "## К сожалению, ни один из описанных способов запуска MyStem (при всем их многообразии) нельзя легко воспроизвести в Колабе.\n",
    "\n",
    "* Стандартный pymystem3 там не работает (говорят, работает, если поставить версию 0.10.10 (т.е. вместо !pip install pymystem3 сделать !pip install pymystem3==0.1.10) и перезапустить тетрадку, но у меня все равно не сработало) \n",
    "* загрузить туда исполняемый файл mystem и запустить его мне не удалось\n",
    "* можно попробовать загрузить архив и распаковать, но не факт, что сработает"
   ]
  },
  {
   "cell_type": "markdown",
   "metadata": {},
   "source": [
    "## Альтернатива MyStem: pymorphy2\n",
    "\n",
    "pymorphy2 - это не обертка, а целиком написанный на Python морфологический анализатор -- открытый и свободный. Он может делать то же, что и pymystem3, и даже больше: изменять слова в нужную форму (спрягать и склонять). При этом pymorphy2 справляется и с незнакомыми словами.\n",
    "\n",
    "[документация](https://pymorphy2.readthedocs.io/en/latest/)\n",
    "\n",
    "pymorphy2 обучался на словарях проекта OpenCorpora, что накладывается определённый отпечаток на его набор грамматических тегов (например, он не очень хорошо совместим с набором грамм.тегов Mystem). Более того, даже внутри себя pymorphy2 противоречив: теги анализа не совсем совпадают с тегами синтеза (т.е. теми, которые он умеет принимать, когда вы хотите поставить слово в нужную форму)\n",
    "\n",
    "Для работы точно так же надо создать экземпляр класса анализатор, только теперь класс называется не `Mystem` a `MorphAnalyzer`. Рекомендуется создать один экземпляр и дальше с ним и работать, поскольку он занимает достаточно много памяти, и если создать несколько экземпляров анализаторов, то они будут тормозить программу."
   ]
  },
  {
   "cell_type": "code",
   "execution_count": null,
   "metadata": {},
   "outputs": [],
   "source": [
    "## Если не установлен pymorphy2\n",
    "!pip install pymorphy2\n",
    "## можете попробовать также быструю версию pip install pymorphy2[fast], но тут возможны проблемы "
   ]
  },
  {
   "cell_type": "code",
   "execution_count": null,
   "metadata": {},
   "outputs": [],
   "source": [
    "from pymorphy2 import MorphAnalyzer\n",
    "morph = MorphAnalyzer()"
   ]
  },
  {
   "cell_type": "code",
   "execution_count": null,
   "metadata": {},
   "outputs": [],
   "source": [
    "morph.parse ('конями')"
   ]
  },
  {
   "cell_type": "code",
   "execution_count": null,
   "metadata": {},
   "outputs": [],
   "source": [
    "morph.parse ('мыло')"
   ]
  },
  {
   "cell_type": "code",
   "execution_count": null,
   "metadata": {},
   "outputs": [],
   "source": [
    "## Важная для нас разница с MyStem — в том, что pymorphy не токенизирует строку автоматически. \n",
    "## Ему все-таки нужны уже токенизированные слова (так же, как мы делали выше со стеммером), а не целая строка, как умеет mystem"
   ]
  },
  {
   "cell_type": "code",
   "execution_count": null,
   "metadata": {},
   "outputs": [],
   "source": [
    "# Так не сработает, хотя результат интересный и кое-что дает \n",
    "test = 'Даня еще раз тестирует машинную морфологию'\n",
    "morph.parse (test)"
   ]
  },
  {
   "cell_type": "code",
   "execution_count": null,
   "metadata": {},
   "outputs": [],
   "source": [
    "# А вот так сработает\n",
    "for word in test.split():\n",
    "    print (morph.parse (word))"
   ]
  },
  {
   "cell_type": "code",
   "execution_count": null,
   "metadata": {},
   "outputs": [],
   "source": [
    "Посмотрим, из чего состоит parse\n",
    "help (pymorphy2.parse)"
   ]
  },
  {
   "cell_type": "code",
   "execution_count": null,
   "metadata": {},
   "outputs": [],
   "source": [
    "## напишем небольшой цикл для лемматизации каждого слова в списке токенов\n",
    "\n",
    "my_tokens = test.split()\n",
    "for word in my_tokens:\n",
    "    rezultat = morph.parse(word)\n",
    "    naibolee_veroyantniy = rezultat[0] ## почему мы берем первый разбор? \n",
    "    ## см.в этом месте: https://pymorphy2.readthedocs.io/en/latest/user/guide.html#select-correct\n",
    "    nach_forma = naibolee_veroyantniy.normal_form\n",
    "    print ('Начальная форма: ', nach_forma)"
   ]
  },
  {
   "cell_type": "markdown",
   "metadata": {},
   "source": [
    "## Задание: сделать лемматизацию \"Преступления и наказания\" с помощью PyMophy2 \n",
    "\n",
    "1. напечатать 100 первых слов \n",
    "2. напечатать 100 самых частотных слов"
   ]
  },
  {
   "cell_type": "markdown",
   "metadata": {},
   "source": [
    "### Вариант решения 1 (с использованием уже сделанной нами выше токенизации): \n",
    "\n",
    "Т.к. выше мы уже токенизировали текст (см. раздел \"сегментация текста\" выше) и сложили результат в виде списка слов в переменную prest_i_nak_nltk_tokenized, можно просто пройтись по словам в этом списке и применить к ним анализатор PyMorphy2"
   ]
  },
  {
   "cell_type": "code",
   "execution_count": null,
   "metadata": {},
   "outputs": [],
   "source": [
    "lemmatized_pres_i_nak = []\n",
    "for word in prest_i_nak_nltk_tokenized:\n",
    "    rezultat_analiza = morph.parse(word)\n",
    "    naibolee_veroyantniy_razbor = rezultat_analiza[0] ## почему мы берем первый разбор? \n",
    "    ## см.в этом месте: https://pymorphy2.readthedocs.io/en/latest/user/guide.html#select-correct\n",
    "    lemma = naibolee_veroyantniy_razbor.normal_form\n",
    "    lemmatized_pres_i_nak.append(lemma)"
   ]
  },
  {
   "cell_type": "markdown",
   "metadata": {},
   "source": [
    "Работает это, правда, долго, секунд 20-30 :( "
   ]
  },
  {
   "cell_type": "code",
   "execution_count": null,
   "metadata": {
    "scrolled": true
   },
   "outputs": [],
   "source": [
    "print (lemmatized_pres_i_nak[:20])"
   ]
  },
  {
   "cell_type": "code",
   "execution_count": null,
   "metadata": {},
   "outputs": [],
   "source": [
    "## 100 самых частотных можно сделать с помощью FreqDist \n",
    "FreqDist(lemmatized_pres_i_nak).most_common(100)"
   ]
  },
  {
   "cell_type": "markdown",
   "metadata": {},
   "source": [
    "### Если не нравятся запятые и пробелы в списке частотностей -- можно их убрать в какой-то момент"
   ]
  },
  {
   "cell_type": "code",
   "execution_count": null,
   "metadata": {},
   "outputs": [],
   "source": [
    "## 100 самых частотных можно сделать с помощью FreqDist\n",
    "for word in lemmatized_pres_i_nak:\n",
    "    if word in [',','!',';','?','.',' ',':', '&','--','...','-']:\n",
    "        lemmatized_pres_i_nak.remove(word)\n",
    "FreqDist(lemmatized_pres_i_nak).most_common(100)"
   ]
  },
  {
   "cell_type": "markdown",
   "metadata": {},
   "source": [
    "### Вариант 2: напишем полный пайплайн лемматизации на pymorphy2 от момента открытия текстового файла  в отдельной небольшой тетрадке\n",
    "\n",
    "В этой тетрадке у нас уже много всего нагромождено, давайте в [отдельной маленькой тетрадке](pure_pymorphy2_for_dr.ipynb) решим конкретную задачу от начала до конца, чтобы вы были уверены, что понимаете последовательность действий.\n",
    "\n",
    "Эта же тетрадка в [Colab](https://colab.research.google.com/drive/1o8NDFIc3_lDq_Z38XokWs-x2drFqk3gR#scrollTo=m3ULn1uux7to&forceEdit=true&sandboxMode=true), можно позапускать."
   ]
  },
  {
   "cell_type": "markdown",
   "metadata": {},
   "source": [
    "<a id='word_distr'></a>\n",
    "## Распределение слов по тексту"
   ]
  },
  {
   "cell_type": "markdown",
   "metadata": {},
   "source": [
    "Теперь можно подойти ближе к чему-то более похожему на distant reading. Например, распределение каких-то значимых для нас слов по тексту. \n",
    "\n",
    "В antConc мы делали такое с помощью ConcordancePlot\n",
    "\n",
    "В Voyant есть няшный аналог — [BubbleLines](http://docs.voyant-tools.org/tools/bubblelines/)\n",
    "\n",
    "В питоне можно придумать разные способы делать это, но один из самых простых — с помощью готового инструмента (вернее, метода) dispersion_plot в уже упомянутой прекрасной библиотеке NLTK. Из NLTK понадобится импортировать [модуль Text](https://www.nltk.org/api/nltk.html#module-nltk.text)):"
   ]
  },
  {
   "cell_type": "code",
   "execution_count": null,
   "metadata": {},
   "outputs": [],
   "source": [
    "from nltk import Text as nltk_text\n",
    "prest_i_nak_nltk_format = nltk_text(prest_i_nak_by_mystem)\n",
    "prest_i_nak_nltk_format.dispersion_plot([\"убийство\", \"разумихин\", \"соня\", \"лужин\"])"
   ]
  },
  {
   "cell_type": "markdown",
   "metadata": {},
   "source": [
    "## График частотности слова (или возвращаясь к DIY-философии DH)\n",
    "\n",
    "В Voyant мы строили графики частотности слова по документу или корпусу. Типа таких: \n",
    "\n",
    "![samolet](pics/samolet.png)\n",
    "\n",
    "В питоне для этого я не нашел готового решения сходу (т.е. за 5 минут гугления и прочесывания [книжки по NLTK](https://www.nltk.org/book/)), хотя оно наверняка есть. Поэтому решил написать свое. Без комментирования оно заняло у меня минут 10."
   ]
  },
  {
   "cell_type": "markdown",
   "metadata": {},
   "source": [
    "#### ниже я напишу код, который будет брать произвольное слово — и длину отрезка в тексте, а дальше идти по тексту от начала до конца, считая частотность слова в каждом отрезке такой длины и записывая значения "
   ]
  },
  {
   "cell_type": "code",
   "execution_count": null,
   "metadata": {},
   "outputs": [],
   "source": [
    "# код, который будет брать произвольное слово — и длину отрезка в тексте,\n",
    "# а дальше идти по тексту, считая частотность слова в каждом отрезке такой длинны \n",
    "\n",
    "chastotnosti = [] ## создадим список частотностей. Сюда мы будем записывать значения для нашего графика\n",
    "dlina_otrezka = 10000 ## пока текст у нас один -- надо его как-то поделить, чтобы построить график;\n",
    "## поэтому заведем переменную dlina_otrezka, чтобы хранить в ней длину отрезка\n",
    "\n",
    "chastotnost_slova_v_otrezke = 0 ## это переменная, чтобы хранить частотность нашего слова\n",
    "iskomoe_slovo = 'убийство' ## а это переменная для хранения самого нашего слова\n",
    "\n",
    "## теперь напишем цикл, который будет идти по списку слов в тексте\n",
    "## поскольку нам понадобится отслеживать число слов, которое мы уже прошли (чтобы делить на отрезков), \n",
    "## можно сразу использовать enumerate, который идет по массиву и перебирает одновременно элементы и их индексы\n",
    "for index_slova, slovo in enumerate(prest_i_nak_by_mystem):\n",
    "    if slovo.lower() == iskomoe_slovo.lower(): ## перебираем каждое словов в книжке и смотрим, является ли оно искомым\n",
    "        chastotnost_slova_v_otrezke +=1 ## если да -- увеличиваем частотность на 1\n",
    "    if not index_slova % dlina_otrezka: ## а тут проверяем, не дошли ли мы до конца отрезка. Если дошли, то остаток от деления \n",
    "        #(в питоне это оператор %) будет нулевым, а значит, выполнится условие \"if not index_slova % dlina_otrezka:\"\n",
    "        chastotnosti.append (chastotnost_slova_v_otrezke/dlina_otrezka) ## нормируем частотность на размер сегмента \n",
    "        ## и записываем ее в общий список частотностей \n",
    "        chastotnost_slova_v_otrezke = 0 ## обнуляем счетчик частотностей -- ведь нам нужны отдельные за каждый отрезок\n",
    "chastotnosti.append (chastotnost_slova_v_otrezke/ (index_slova%dlina_otrezka)) ## в этой строчке мы учитываем последний сегмент, который \n",
    "    ## в for-цикле выше не обрабатывается (т.к. там только на точках, где число кратно длине сегмента, частотность сохраняется)\n",
    "    ## Размер последнего сегмента меньше, т.к. \n",
    "    ## цикл обрывается на посл.слове.  мы \n",
    "    ## вычисляем размер последнего короткого сегмента как остаток от \n",
    "    ## деления индекса последнего слова (еще здесь можно было просто измерить длину текста) — на длину отрезка  \n",
    "    \n",
    "print (chastotnosti)\n",
    "        "
   ]
  },
  {
   "cell_type": "markdown",
   "metadata": {},
   "source": [
    "## Завернем этот код в отдельную функцию, чтобы было удобно\n",
    "\n",
    "Функция в программировании в чем-то похожа на функцию в математике: отображение чего-то (вход, т.е. аргументы функции) во что-то еще (выход) по каким-то правилам. Например, вот функция, чтобы уменьшать число на 5:\n",
    "\n",
    "`def minuspyat (x):\n",
    "    return x - 5`\n",
    "    \n",
    "В питоне функции задаются с помощью специального слова `def`, после которого в скобках пишутся обозначения аргументов функции. Результат функции выдается с помощью команды `return`. \n",
    "\n",
    "Вот функция, которая будет складывать два числа:"
   ]
  },
  {
   "cell_type": "code",
   "execution_count": null,
   "metadata": {},
   "outputs": [],
   "source": [
    "def plus (a, b):\n",
    "    return a + b"
   ]
  },
  {
   "cell_type": "code",
   "execution_count": null,
   "metadata": {},
   "outputs": [],
   "source": [
    "plus (4,3)"
   ]
  },
  {
   "cell_type": "markdown",
   "metadata": {},
   "source": [
    "### Ниже наш код для подсчета частотностей -- уже в виде функции, в которую можно передать длину отрезка, искомое слово и текст в виде списка слов "
   ]
  },
  {
   "cell_type": "code",
   "execution_count": null,
   "metadata": {},
   "outputs": [],
   "source": [
    "# создадим отдельную функцию под названием schitaem_chastotnosti, которая будет брать на вход слово\n",
    "## — и длину отрезка в тексте,\n",
    "# а дальше идти по тексту, считая частотность слова в этом отрезка\n",
    "def schitaem_chastotnosti (iskomoe_slovo, dlina_otrezka, tokenized_text):\n",
    "    chastotnosti = [] ## создадим список частотностей. Сюда мы будем записывать значения для нашего графика\n",
    "    chastotnost_slova_v_otrezke = 0 ## это переменная, чтобы хранить частотность нашего слова\n",
    "    ## теперь напишем цикл, который будет идти по списку слов в тексте\n",
    "    ## поскольку нам понадобится отслеживать число слов, которое мы уже прошли (чтобы делить на отрезков), \n",
    "    ## можно сразу использовать enumerate, который идет по массиву и перебирает одновременно элементы и их индексы\n",
    "    for index_slova, slovo in enumerate(tokenized_text):\n",
    "        if slovo.lower() == iskomoe_slovo.lower(): ## перебираем каждое словов в книжке и смотрим, является ли оно искомым\n",
    "            chastotnost_slova_v_otrezke +=1 ## если да -- увеличиваем частотность на 1\n",
    "        if not index_slova % dlina_otrezka: ## а тут проверяем, не дошли ли мы до конца отрезка. Если дошли, то остаток от деления \n",
    "            #(в питоне это оператор %) будет нулевым, а значит, выполнится условие \"if not index_slova % dlina_otrezka:\"\n",
    "            chastotnosti.append (chastotnost_slova_v_otrezke/dlina_otrezka) ## нормируем частотность на размер сегмента \n",
    "            ## и записываем ее в общий список частотностей \n",
    "            chastotnost_slova_v_otrezke = 0 ## обнуляем счетчик частотностей -- ведь нам нужны отдельные за каждый отрезок\n",
    "    chastotnosti.append (chastotnost_slova_v_otrezke/ (index_slova%dlina_otrezka)) ## в этой строчке мы учитываем последний сегмент, который \n",
    "        ## в for-цикле выше не обрабатывается (т.к. там только на точках, где число кратно длине сегмента, частотность сохраняется)\n",
    "        ## Размер последнего сегмента меньше, т.к. \n",
    "        ## цикл обрывается на посл.слове.  мы \n",
    "        ## вычисляем размер последнего короткого сегмента как остаток от \n",
    "        ## деления индекса последнего слова (еще здесь можно было просто измерить длину текста) — на длину отрезка  \n",
    "\n",
    "    return (chastotnosti)"
   ]
  },
  {
   "cell_type": "code",
   "execution_count": null,
   "metadata": {},
   "outputs": [],
   "source": [
    "schitaem_chastotnosti ('убийство', 10000, prest_i_nak_by_mystem)"
   ]
  },
  {
   "cell_type": "markdown",
   "metadata": {},
   "source": [
    "### Теперь визуализируем этот список частотностей как график"
   ]
  },
  {
   "cell_type": "code",
   "execution_count": null,
   "metadata": {},
   "outputs": [],
   "source": [
    "import matplotlib.pyplot as plt"
   ]
  },
  {
   "cell_type": "code",
   "execution_count": null,
   "metadata": {},
   "outputs": [],
   "source": [
    "plt.title('убийство в Преступлении и наказании')\n",
    "plt.plot (schitaem_chastotnosti ('убийство', 5000, prest_i_nak_by_mystem));\n"
   ]
  },
  {
   "cell_type": "markdown",
   "metadata": {},
   "source": [
    "## Теперь как бы нам потрогать весь корпус"
   ]
  },
  {
   "cell_type": "markdown",
   "metadata": {},
   "source": [
    "Если вы работаете с этим кодом локально  у себя на компьютере (напр. в Jupyter), то ничего сложного. \n",
    "Можно обойти каждый файл в корпусе с помощью цикла. Для этого в стандартной питоновской библиотеке `os`, предназначенной для работы с операционной системой вашего компьютера, есть функция `walk` — обходчик файлов и папок.\n",
    "\n",
    "Вот так я обойду все, что лежит в подпапке texts внутри той папки на компьютере, из которой я сейчас запускаю код."
   ]
  },
  {
   "cell_type": "code",
   "execution_count": null,
   "metadata": {},
   "outputs": [],
   "source": [
    "from os import walk"
   ]
  },
  {
   "cell_type": "code",
   "execution_count": null,
   "metadata": {},
   "outputs": [],
   "source": [
    "for path, dirs, filenames in walk ('texts'):\n",
    "    for filename in filenames[:10]:\n",
    "        print (filename)"
   ]
  },
  {
   "cell_type": "markdown",
   "metadata": {},
   "source": [
    "### А что делать в Колабе? Там же этой папки нет! \n",
    "\n",
    "#### Кажется, проще всего — клонировать в колаб репозиторий! Вот так:"
   ]
  },
  {
   "cell_type": "code",
   "execution_count": null,
   "metadata": {},
   "outputs": [],
   "source": [
    "! git clone https://github.com/DanilSko/dhminor"
   ]
  },
  {
   "cell_type": "code",
   "execution_count": null,
   "metadata": {},
   "outputs": [],
   "source": [
    "# перейдите в нужный бранч:\n",
    "! git checkout gh-pages"
   ]
  },
  {
   "cell_type": "code",
   "execution_count": null,
   "metadata": {},
   "outputs": [],
   "source": [
    "# после выполнения можно проверить, что репозитория появился в колабе\n",
    "! ls"
   ]
  },
  {
   "cell_type": "code",
   "execution_count": null,
   "metadata": {},
   "outputs": [],
   "source": [
    "Теперь можно в колабе найти эту папку!\n",
    "\n",
    "!ls distant_reading_practice/texts"
   ]
  },
  {
   "cell_type": "markdown",
   "metadata": {},
   "source": [
    "#### Теперь вы можете прямо в колабе обойти те же тексты\n",
    "\n",
    "Только путь к папке чуть длиннее:"
   ]
  },
  {
   "cell_type": "code",
   "execution_count": null,
   "metadata": {},
   "outputs": [],
   "source": [
    "for path, dirs, filenames in walk ('../dhminor/distant_reading_practice/texts'):\n",
    "    for filename in filenames[:10]:\n",
    "        print (filename)"
   ]
  },
  {
   "cell_type": "markdown",
   "metadata": {},
   "source": [
    "## В таком цикле можно открывать файлы и делать с ними все то же, что выше мы делали с одиночным файлом"
   ]
  },
  {
   "cell_type": "code",
   "execution_count": null,
   "metadata": {},
   "outputs": [],
   "source": [
    "from os.path import sep as razdelitel"
   ]
  },
  {
   "cell_type": "code",
   "execution_count": null,
   "metadata": {},
   "outputs": [],
   "source": [
    "for path, dirs, filenames in walk ('texts'):\n",
    "    print (len(filenames))"
   ]
  },
  {
   "cell_type": "code",
   "execution_count": null,
   "metadata": {},
   "outputs": [],
   "source": [
    "for path, dirs, filenames in walk ('texts'):\n",
    "    for filename in filenames[:5]:\n",
    "        print (filename)\n",
    "        file = open(path + razdelitel + filename, 'r')\n",
    "        file_kak_stroka = file.read()\n",
    "        nachalo = file_kak_stroka[:10]\n",
    "        print (nachalo)"
   ]
  },
  {
   "cell_type": "markdown",
   "metadata": {},
   "source": [
    "### Попробуем строить графики по всему корпусу"
   ]
  },
  {
   "cell_type": "code",
   "execution_count": null,
   "metadata": {},
   "outputs": [],
   "source": [
    "## обощим и немного упростим описанную выше функцию для подсчета частотностей: \n",
    "## будем считать упоминания слова в каждом тексте и делить на объем текста\n",
    "def schitaem_chastotnosti_fulltext (iskomoe_slovo, put_k_faylam):\n",
    "    vse_chastotnisti = []\n",
    "    for path, dirs, filenames in walk ('texts'):\n",
    "        filenames.sort() ## чтобы открывались потом в хронологическом порядке, отсортируем по названию\n",
    "        for filename in filenames:\n",
    "            if filename.endswith('.txt'): ## бывают еще всякие плохо видимые служебные файлы\n",
    "                file_kak_stroka = open(path + razdelitel + filename, 'r').read()\n",
    "                tokenized_file = word_tokenize(file_kak_stroka)\n",
    "                chastota =  tokenized_file.count(iskomoe_slovo) ## у питоновских списков есть метод count, который позволяет посчитать число элементов\n",
    "                vse_chastotnisti.append(chastota/len (tokenized_file))\n",
    "    plt.title ( \"слово \" +iskomoe_slovo+ \" в корпусе фантастических текстов\")\n",
    "    plt.plot (vse_chastotnisti)\n",
    "    #return (vse_chastotnisti)"
   ]
  },
  {
   "cell_type": "code",
   "execution_count": null,
   "metadata": {},
   "outputs": [],
   "source": [
    "schitaem_chastotnosti_fulltext ('компьютер', 'texts')"
   ]
  },
  {
   "cell_type": "markdown",
   "metadata": {},
   "source": [
    "### Как добавить временную шкалу по оси X? Придумайте сами!"
   ]
  },
  {
   "cell_type": "markdown",
   "metadata": {},
   "source": [
    "## Еще нам может быть удобно слить весь наш корпус в один файл — и работать с ним\n",
    "\n",
    "Но вообще это не всегда хорошая идея. Например, в GitHub нельзя запихать файл тяжелее 100 мб. Если захотите — [вот он просто на гугл драйве](https://drive.google.com/open?id=1dEps432C_6jqsIgxPmhPu4keD_9VnM69). "
   ]
  },
  {
   "cell_type": "markdown",
   "metadata": {},
   "source": [
    "## Пару слов про тематическое моделирование \n",
    "\n",
    "Я умею делать тематическое моделирование только по олдскулу с помощью MALLET.\n",
    "Но в питоне можно запускать в питоне топик моделинг -- и автоматически визуализировать полученные топики в таком духе: \n",
    "\n",
    "![топики](pics/topics.png)"
   ]
  },
  {
   "cell_type": "markdown",
   "metadata": {},
   "source": [
    "### Как это сделать в питоне? См. [тут](https://github.com/dhhse/dhcourse/blob/master/dr_practice/topic_modeling_and_graphs.ipynb): "
   ]
  },
  {
   "cell_type": "code",
   "execution_count": null,
   "metadata": {},
   "outputs": [],
   "source": []
  }
 ],
 "metadata": {
  "kernelspec": {
   "display_name": "Python 3",
   "language": "python",
   "name": "python3"
  },
  "language_info": {
   "codemirror_mode": {
    "name": "ipython",
    "version": 3
   },
   "file_extension": ".py",
   "mimetype": "text/x-python",
   "name": "python",
   "nbconvert_exporter": "python",
   "pygments_lexer": "ipython3",
   "version": "3.6.5"
  }
 },
 "nbformat": 4,
 "nbformat_minor": 2
}
